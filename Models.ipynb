{
 "cells": [
  {
   "cell_type": "code",
   "execution_count": null,
   "metadata": {
    "colab": {
     "base_uri": "https://localhost:8080/"
    },
    "id": "15vfSYwsMX78",
    "outputId": "a0980e2d-ec28-417a-b333-ca36e6262283"
   },
   "outputs": [
    {
     "name": "stdout",
     "output_type": "stream",
     "text": [
      "Mounted at /content/drive\n"
     ]
    }
   ],
   "source": [
    "from google.colab import drive\n",
    "drive.mount('/content/drive')"
   ]
  },
  {
   "cell_type": "code",
   "execution_count": null,
   "metadata": {
    "id": "xseH8_NZMH1t"
   },
   "outputs": [],
   "source": [
    "#Importing Libraries\n",
    "import warnings\n",
    "warnings.filterwarnings(\"ignore\")\n",
    "\n",
    "import csv\n",
    "import pandas as pd\n",
    "import datetime \n",
    "import time \n",
    "import numpy as np\n",
    "import matplotlib\n",
    "import matplotlib.pyplot as plt\n",
    "import seaborn as sns\n",
    "from matplotlib import rcParams\n",
    "import math\n",
    "import pickle\n",
    "import os\n",
    "import xgboost as xgb\n",
    "import networkx as nx\n",
    "import pdb\n",
    "from pandas import HDFStore,DataFrame\n",
    "from pandas import read_hdf\n",
    "from scipy.sparse.linalg import svds, eigs\n",
    "import gc\n",
    "from tqdm import tqdm\n",
    "from scipy.sparse.linalg import svds, eigs\n",
    "from sklearn.ensemble import RandomForestClassifier\n",
    "from sklearn.metrics import f1_score"
   ]
  },
  {
   "cell_type": "code",
   "execution_count": null,
   "metadata": {
    "colab": {
     "base_uri": "https://localhost:8080/"
    },
    "id": "VmiCHfuCM2mD",
    "outputId": "6226bdd4-4470-431a-81e7-a12092a78f0b"
   },
   "outputs": [
    {
     "name": "stdout",
     "output_type": "stream",
     "text": [
      "Name: \n",
      "Type: DiGraph\n",
      "Number of nodes: 1780722\n",
      "Number of edges: 7550015\n",
      "Average in degree:   4.2399\n",
      "Average out degree:   4.2399\n"
     ]
    }
   ],
   "source": [
    "if os.path.isfile('/content/drive/MyDrive/Facebook/data/after_eda/train_pos_after_eda.csv'):\n",
    "    train_graph=nx.read_edgelist('/content/drive/MyDrive/Facebook/data/after_eda/train_pos_after_eda.csv',delimiter=',',create_using=nx.DiGraph(),nodetype=int)\n",
    "    print(nx.info(train_graph))\n",
    "else:\n",
    "    print(\"please run the FB_EDA.ipynb or download the files from drive\")"
   ]
  },
  {
   "cell_type": "markdown",
   "metadata": {
    "id": "a5wleCokNXPl"
   },
   "source": [
    "Read all final features created after EDA"
   ]
  },
  {
   "cell_type": "code",
   "execution_count": null,
   "metadata": {
    "id": "9YQQiIoiNIZ5"
   },
   "outputs": [],
   "source": [
    "from pandas import read_hdf\n",
    "df_final_train = read_hdf('/content/drive/MyDrive/Facebook/data/fea_sample/storage_sample_stage4.h5', 'train_df',mode='r')\n",
    "df_final_test = read_hdf('/content/drive/MyDrive/Facebook/data/fea_sample/storage_sample_stage4.h5', 'test_df',mode='r')"
   ]
  },
  {
   "cell_type": "code",
   "execution_count": null,
   "metadata": {
    "colab": {
     "base_uri": "https://localhost:8080/"
    },
    "id": "cHKSVhHENfMA",
    "outputId": "374136c5-d135-42fd-a91a-f432a33daed4"
   },
   "outputs": [
    {
     "data": {
      "text/plain": [
       "Index(['source_node', 'destination_node', 'indicator_link',\n",
       "       'jaccard_followers', 'jaccard_followees', 'cosine_followers',\n",
       "       'cosine_followees', 'num_followers_s', 'num_followees_s',\n",
       "       'num_followees_d', 'inter_followers', 'inter_followees', 'adar_index',\n",
       "       'follows_back', 'same_comp', 'shortest_path', 'weight_in', 'weight_out',\n",
       "       'weight_f1', 'weight_f2', 'weight_f3', 'weight_f4', 'page_rank_s',\n",
       "       'page_rank_d', 'katz_s', 'katz_d', 'hubs_s', 'hubs_d', 'authorities_s',\n",
       "       'authorities_d', 'svd_u_s_1', 'svd_u_s_2', 'svd_u_s_3', 'svd_u_s_4',\n",
       "       'svd_u_s_5', 'svd_u_s_6', 'svd_u_d_1', 'svd_u_d_2', 'svd_u_d_3',\n",
       "       'svd_u_d_4', 'svd_u_d_5', 'svd_u_d_6', 'svd_v_s_1', 'svd_v_s_2',\n",
       "       'svd_v_s_3', 'svd_v_s_4', 'svd_v_s_5', 'svd_v_s_6', 'svd_v_d_1',\n",
       "       'svd_v_d_2', 'svd_v_d_3', 'svd_v_d_4', 'svd_v_d_5', 'svd_v_d_6'],\n",
       "      dtype='object')"
      ]
     },
     "execution_count": 5,
     "metadata": {
      "tags": []
     },
     "output_type": "execute_result"
    }
   ],
   "source": [
    "df_final_train.columns"
   ]
  },
  {
   "cell_type": "markdown",
   "metadata": {
    "id": "8kpEblO9VKN_"
   },
   "source": [
    "# New Features"
   ]
  },
  {
   "cell_type": "markdown",
   "metadata": {
    "id": "apGlB009Ntt7"
   },
   "source": [
    "New Feature: Preferential Attachment with followers\n"
   ]
  },
  {
   "cell_type": "code",
   "execution_count": null,
   "metadata": {
    "id": "R3TVyVR_Nk8o"
   },
   "outputs": [],
   "source": [
    "def preferential_attachment_followers(a,b):\n",
    "  try:\n",
    "    return len(set(train_graph.predecessors(a)))*len(set(train_graph.predecessors(b)))\n",
    "  except:\n",
    "    return 0"
   ]
  },
  {
   "cell_type": "code",
   "execution_count": null,
   "metadata": {
    "colab": {
     "base_uri": "https://localhost:8080/"
    },
    "id": "QOuKjXq8OWTa",
    "outputId": "4d1645c7-c9f3-409b-ff61-03bf0dd55e83"
   },
   "outputs": [
    {
     "data": {
      "text/plain": [
       "22"
      ]
     },
     "execution_count": 7,
     "metadata": {
      "tags": []
     },
     "output_type": "execute_result"
    }
   ],
   "source": [
    "preferential_attachment_followers(32,524)"
   ]
  },
  {
   "cell_type": "markdown",
   "metadata": {
    "id": "FcvQk2GnOc7a"
   },
   "source": [
    "New Feature: Preferential Attachment with followees"
   ]
  },
  {
   "cell_type": "code",
   "execution_count": null,
   "metadata": {
    "id": "I3qXchInObE-"
   },
   "outputs": [],
   "source": [
    "def preferential_attachment_followees(a,b):\n",
    "  try:\n",
    "    return len(set(train_graph.successors(a)))*len(set(train_graph.successors(b)))\n",
    "  except:\n",
    "    return 0"
   ]
  },
  {
   "cell_type": "code",
   "execution_count": null,
   "metadata": {
    "colab": {
     "base_uri": "https://localhost:8080/"
    },
    "id": "dYni_YMxOpAG",
    "outputId": "bc5c56f1-84c7-4100-f8a2-4a1f198faa10"
   },
   "outputs": [
    {
     "data": {
      "text/plain": [
       "15"
      ]
     },
     "execution_count": 9,
     "metadata": {
      "tags": []
     },
     "output_type": "execute_result"
    }
   ],
   "source": [
    "preferential_attachment_followees(32,524)"
   ]
  },
  {
   "cell_type": "code",
   "execution_count": null,
   "metadata": {
    "id": "o6zkI2ZxOxCE"
   },
   "outputs": [],
   "source": [
    "df_final_train['preferential_attachment_followers']=\\\n",
    "df_final_train.apply(lambda p:preferential_attachment_followers(p['source_node'],p['destination_node']),axis=1)\n",
    "\n",
    "df_final_train['preferential_attachment_followees']=\\\n",
    "df_final_train.apply(lambda p:preferential_attachment_followees(p['source_node'],p['destination_node']),axis=1)\n",
    "\n",
    "df_final_test['preferential_attachment_followers']=\\\n",
    "df_final_test.apply(lambda p:preferential_attachment_followers(p['source_node'],p['destination_node']),axis=1)\n",
    "\n",
    "df_final_test['preferential_attachment_followees']=\\\n",
    "df_final_test.apply(lambda p:preferential_attachment_followees(p['source_node'],p['destination_node']),axis=1)"
   ]
  },
  {
   "cell_type": "code",
   "execution_count": null,
   "metadata": {
    "colab": {
     "base_uri": "https://localhost:8080/",
     "height": 166
    },
    "id": "e2ihNlEHP_7d",
    "outputId": "f17122a6-ed3f-4f96-9953-6dcae4803d35"
   },
   "outputs": [
    {
     "data": {
      "text/html": [
       "<div>\n",
       "<style scoped>\n",
       "    .dataframe tbody tr th:only-of-type {\n",
       "        vertical-align: middle;\n",
       "    }\n",
       "\n",
       "    .dataframe tbody tr th {\n",
       "        vertical-align: top;\n",
       "    }\n",
       "\n",
       "    .dataframe thead th {\n",
       "        text-align: right;\n",
       "    }\n",
       "</style>\n",
       "<table border=\"1\" class=\"dataframe\">\n",
       "  <thead>\n",
       "    <tr style=\"text-align: right;\">\n",
       "      <th></th>\n",
       "      <th>source_node</th>\n",
       "      <th>destination_node</th>\n",
       "      <th>indicator_link</th>\n",
       "      <th>jaccard_followers</th>\n",
       "      <th>jaccard_followees</th>\n",
       "      <th>cosine_followers</th>\n",
       "      <th>cosine_followees</th>\n",
       "      <th>num_followers_s</th>\n",
       "      <th>num_followees_s</th>\n",
       "      <th>num_followees_d</th>\n",
       "      <th>inter_followers</th>\n",
       "      <th>inter_followees</th>\n",
       "      <th>adar_index</th>\n",
       "      <th>follows_back</th>\n",
       "      <th>same_comp</th>\n",
       "      <th>shortest_path</th>\n",
       "      <th>weight_in</th>\n",
       "      <th>weight_out</th>\n",
       "      <th>weight_f1</th>\n",
       "      <th>weight_f2</th>\n",
       "      <th>weight_f3</th>\n",
       "      <th>weight_f4</th>\n",
       "      <th>page_rank_s</th>\n",
       "      <th>page_rank_d</th>\n",
       "      <th>katz_s</th>\n",
       "      <th>katz_d</th>\n",
       "      <th>hubs_s</th>\n",
       "      <th>hubs_d</th>\n",
       "      <th>authorities_s</th>\n",
       "      <th>authorities_d</th>\n",
       "      <th>svd_u_s_1</th>\n",
       "      <th>svd_u_s_2</th>\n",
       "      <th>svd_u_s_3</th>\n",
       "      <th>svd_u_s_4</th>\n",
       "      <th>svd_u_s_5</th>\n",
       "      <th>svd_u_s_6</th>\n",
       "      <th>svd_u_d_1</th>\n",
       "      <th>svd_u_d_2</th>\n",
       "      <th>svd_u_d_3</th>\n",
       "      <th>svd_u_d_4</th>\n",
       "      <th>svd_u_d_5</th>\n",
       "      <th>svd_u_d_6</th>\n",
       "      <th>svd_v_s_1</th>\n",
       "      <th>svd_v_s_2</th>\n",
       "      <th>svd_v_s_3</th>\n",
       "      <th>svd_v_s_4</th>\n",
       "      <th>svd_v_s_5</th>\n",
       "      <th>svd_v_s_6</th>\n",
       "      <th>svd_v_d_1</th>\n",
       "      <th>svd_v_d_2</th>\n",
       "      <th>svd_v_d_3</th>\n",
       "      <th>svd_v_d_4</th>\n",
       "      <th>svd_v_d_5</th>\n",
       "      <th>svd_v_d_6</th>\n",
       "      <th>preferential_attachment_followers</th>\n",
       "      <th>preferential_attachment_followees</th>\n",
       "    </tr>\n",
       "  </thead>\n",
       "  <tbody>\n",
       "    <tr>\n",
       "      <th>0</th>\n",
       "      <td>273084</td>\n",
       "      <td>1505602</td>\n",
       "      <td>1</td>\n",
       "      <td>0</td>\n",
       "      <td>0.000000</td>\n",
       "      <td>0.000000</td>\n",
       "      <td>0.000000</td>\n",
       "      <td>6</td>\n",
       "      <td>15</td>\n",
       "      <td>8</td>\n",
       "      <td>0</td>\n",
       "      <td>0</td>\n",
       "      <td>0.000000</td>\n",
       "      <td>0</td>\n",
       "      <td>1</td>\n",
       "      <td>4</td>\n",
       "      <td>0.377964</td>\n",
       "      <td>0.250</td>\n",
       "      <td>0.627964</td>\n",
       "      <td>0.094491</td>\n",
       "      <td>1.005929</td>\n",
       "      <td>0.877964</td>\n",
       "      <td>2.045290e-06</td>\n",
       "      <td>3.459963e-07</td>\n",
       "      <td>0.000773</td>\n",
       "      <td>0.000756</td>\n",
       "      <td>1.943132e-13</td>\n",
       "      <td>1.941103e-13</td>\n",
       "      <td>9.226339e-16</td>\n",
       "      <td>2.231877e-15</td>\n",
       "      <td>-1.666226e-13</td>\n",
       "      <td>4.613397e-13</td>\n",
       "      <td>1.043044e-05</td>\n",
       "      <td>6.676960e-13</td>\n",
       "      <td>2.451081e-13</td>\n",
       "      <td>3.584580e-12</td>\n",
       "      <td>-2.038017e-11</td>\n",
       "      <td>5.397495e-13</td>\n",
       "      <td>1.068946e-06</td>\n",
       "      <td>1.192357e-12</td>\n",
       "      <td>2.279485e-12</td>\n",
       "      <td>3.580837e-12</td>\n",
       "      <td>-7.216133e-13</td>\n",
       "      <td>3.925975e-13</td>\n",
       "      <td>1.983691e-06</td>\n",
       "      <td>1.545075e-13</td>\n",
       "      <td>8.108434e-13</td>\n",
       "      <td>1.719702e-14</td>\n",
       "      <td>-1.355368e-12</td>\n",
       "      <td>4.675307e-13</td>\n",
       "      <td>1.128591e-06</td>\n",
       "      <td>6.616550e-14</td>\n",
       "      <td>9.771077e-13</td>\n",
       "      <td>4.159752e-14</td>\n",
       "      <td>66</td>\n",
       "      <td>120</td>\n",
       "    </tr>\n",
       "    <tr>\n",
       "      <th>1</th>\n",
       "      <td>832016</td>\n",
       "      <td>1543415</td>\n",
       "      <td>1</td>\n",
       "      <td>0</td>\n",
       "      <td>0.187135</td>\n",
       "      <td>0.028382</td>\n",
       "      <td>0.343828</td>\n",
       "      <td>94</td>\n",
       "      <td>61</td>\n",
       "      <td>142</td>\n",
       "      <td>11</td>\n",
       "      <td>32</td>\n",
       "      <td>16.362912</td>\n",
       "      <td>0</td>\n",
       "      <td>1</td>\n",
       "      <td>2</td>\n",
       "      <td>0.102598</td>\n",
       "      <td>0.127</td>\n",
       "      <td>0.229598</td>\n",
       "      <td>0.013030</td>\n",
       "      <td>0.332196</td>\n",
       "      <td>0.356598</td>\n",
       "      <td>2.353458e-07</td>\n",
       "      <td>6.427660e-07</td>\n",
       "      <td>0.000845</td>\n",
       "      <td>0.001317</td>\n",
       "      <td>3.906648e-11</td>\n",
       "      <td>9.424102e-11</td>\n",
       "      <td>1.208074e-11</td>\n",
       "      <td>1.273080e-10</td>\n",
       "      <td>7.051088e-13</td>\n",
       "      <td>-8.250564e-11</td>\n",
       "      <td>-1.717702e-10</td>\n",
       "      <td>3.705016e-02</td>\n",
       "      <td>1.032392e-11</td>\n",
       "      <td>7.207497e-10</td>\n",
       "      <td>1.644399e-12</td>\n",
       "      <td>-2.047752e-10</td>\n",
       "      <td>-3.943936e-10</td>\n",
       "      <td>8.617541e-02</td>\n",
       "      <td>2.399540e-11</td>\n",
       "      <td>1.738682e-09</td>\n",
       "      <td>2.685878e-13</td>\n",
       "      <td>-3.316849e-11</td>\n",
       "      <td>-6.236048e-11</td>\n",
       "      <td>1.345726e-02</td>\n",
       "      <td>3.703479e-12</td>\n",
       "      <td>2.251737e-10</td>\n",
       "      <td>1.245101e-12</td>\n",
       "      <td>-1.636948e-10</td>\n",
       "      <td>-3.112650e-10</td>\n",
       "      <td>6.738902e-02</td>\n",
       "      <td>2.607801e-11</td>\n",
       "      <td>2.372904e-09</td>\n",
       "      <td>1598</td>\n",
       "      <td>8662</td>\n",
       "    </tr>\n",
       "  </tbody>\n",
       "</table>\n",
       "</div>"
      ],
      "text/plain": [
       "   source_node  ...  preferential_attachment_followees\n",
       "0       273084  ...                                120\n",
       "1       832016  ...                               8662\n",
       "\n",
       "[2 rows x 56 columns]"
      ]
     },
     "execution_count": 11,
     "metadata": {
      "tags": []
     },
     "output_type": "execute_result"
    }
   ],
   "source": [
    "df_final_train.head(2)"
   ]
  },
  {
   "cell_type": "markdown",
   "metadata": {
    "id": "8rMSKQqISfUS"
   },
   "source": [
    "Adding svd_dot feature"
   ]
  },
  {
   "cell_type": "code",
   "execution_count": null,
   "metadata": {
    "id": "CYi0IIt-RHzV"
   },
   "outputs": [],
   "source": [
    "df_final_train['svd_dot_f1']=df_final_train['svd_u_s_1']*df_final_train['svd_u_d_1']+df_final_train['svd_u_s_2']*df_final_train['svd_u_d_2']+\\\n",
    "df_final_train['svd_u_s_3']*df_final_train['svd_u_d_3']+df_final_train['svd_u_s_4']*df_final_train['svd_u_d_4']+\\\n",
    "df_final_train['svd_u_s_5']*df_final_train['svd_u_d_5']+df_final_train['svd_u_s_6']*df_final_train['svd_u_d_6']\n",
    "\n",
    "df_final_train['svd_dot_f2']=df_final_train['svd_v_s_1']*df_final_train['svd_v_d_1']+df_final_train['svd_v_s_2']*df_final_train['svd_v_d_2']+\\\n",
    "df_final_train['svd_v_s_3']*df_final_train['svd_v_d_3']+df_final_train['svd_v_s_4']*df_final_train['svd_v_d_4']+\\\n",
    "df_final_train['svd_v_s_5']*df_final_train['svd_v_d_5']+df_final_train['svd_v_s_6']*df_final_train['svd_v_d_6']\n",
    "\n",
    "df_final_test['svd_dot_f1']=df_final_test['svd_u_s_1']*df_final_test['svd_u_d_1']+df_final_test['svd_u_s_2']*df_final_test['svd_u_d_2']+\\\n",
    "df_final_test['svd_u_s_3']*df_final_test['svd_u_d_3']+df_final_test['svd_u_s_4']*df_final_test['svd_u_d_4']+\\\n",
    "df_final_test['svd_u_s_5']*df_final_test['svd_u_d_5']+df_final_test['svd_u_s_6']*df_final_test['svd_u_d_6']\n",
    "\n",
    "df_final_test['svd_dot_f2']=df_final_test['svd_v_s_1']*df_final_test['svd_v_d_1']+df_final_test['svd_v_s_2']*df_final_test['svd_v_d_2']+\\\n",
    "df_final_test['svd_v_s_3']*df_final_test['svd_v_d_3']+df_final_test['svd_v_s_4']*df_final_test['svd_v_d_4']+\\\n",
    "df_final_test['svd_v_s_5']*df_final_test['svd_v_d_5']+df_final_test['svd_v_s_6']*df_final_test['svd_v_d_6']"
   ]
  },
  {
   "cell_type": "code",
   "execution_count": null,
   "metadata": {
    "colab": {
     "base_uri": "https://localhost:8080/",
     "height": 166
    },
    "id": "hJo_K9xXTzfs",
    "outputId": "ad87e5e3-626c-4887-e3ba-4c7efe14a79a"
   },
   "outputs": [
    {
     "data": {
      "text/html": [
       "<div>\n",
       "<style scoped>\n",
       "    .dataframe tbody tr th:only-of-type {\n",
       "        vertical-align: middle;\n",
       "    }\n",
       "\n",
       "    .dataframe tbody tr th {\n",
       "        vertical-align: top;\n",
       "    }\n",
       "\n",
       "    .dataframe thead th {\n",
       "        text-align: right;\n",
       "    }\n",
       "</style>\n",
       "<table border=\"1\" class=\"dataframe\">\n",
       "  <thead>\n",
       "    <tr style=\"text-align: right;\">\n",
       "      <th></th>\n",
       "      <th>source_node</th>\n",
       "      <th>destination_node</th>\n",
       "      <th>indicator_link</th>\n",
       "      <th>jaccard_followers</th>\n",
       "      <th>jaccard_followees</th>\n",
       "      <th>cosine_followers</th>\n",
       "      <th>cosine_followees</th>\n",
       "      <th>num_followers_s</th>\n",
       "      <th>num_followees_s</th>\n",
       "      <th>num_followees_d</th>\n",
       "      <th>inter_followers</th>\n",
       "      <th>inter_followees</th>\n",
       "      <th>adar_index</th>\n",
       "      <th>follows_back</th>\n",
       "      <th>same_comp</th>\n",
       "      <th>shortest_path</th>\n",
       "      <th>weight_in</th>\n",
       "      <th>weight_out</th>\n",
       "      <th>weight_f1</th>\n",
       "      <th>weight_f2</th>\n",
       "      <th>weight_f3</th>\n",
       "      <th>weight_f4</th>\n",
       "      <th>page_rank_s</th>\n",
       "      <th>page_rank_d</th>\n",
       "      <th>katz_s</th>\n",
       "      <th>katz_d</th>\n",
       "      <th>hubs_s</th>\n",
       "      <th>hubs_d</th>\n",
       "      <th>authorities_s</th>\n",
       "      <th>authorities_d</th>\n",
       "      <th>svd_u_s_1</th>\n",
       "      <th>svd_u_s_2</th>\n",
       "      <th>svd_u_s_3</th>\n",
       "      <th>svd_u_s_4</th>\n",
       "      <th>svd_u_s_5</th>\n",
       "      <th>svd_u_s_6</th>\n",
       "      <th>svd_u_d_1</th>\n",
       "      <th>svd_u_d_2</th>\n",
       "      <th>svd_u_d_3</th>\n",
       "      <th>svd_u_d_4</th>\n",
       "      <th>svd_u_d_5</th>\n",
       "      <th>svd_u_d_6</th>\n",
       "      <th>svd_v_s_1</th>\n",
       "      <th>svd_v_s_2</th>\n",
       "      <th>svd_v_s_3</th>\n",
       "      <th>svd_v_s_4</th>\n",
       "      <th>svd_v_s_5</th>\n",
       "      <th>svd_v_s_6</th>\n",
       "      <th>svd_v_d_1</th>\n",
       "      <th>svd_v_d_2</th>\n",
       "      <th>svd_v_d_3</th>\n",
       "      <th>svd_v_d_4</th>\n",
       "      <th>svd_v_d_5</th>\n",
       "      <th>svd_v_d_6</th>\n",
       "      <th>preferential_attachment_followers</th>\n",
       "      <th>preferential_attachment_followees</th>\n",
       "      <th>svd_dot_f1</th>\n",
       "      <th>svd_dot_f2</th>\n",
       "    </tr>\n",
       "  </thead>\n",
       "  <tbody>\n",
       "    <tr>\n",
       "      <th>0</th>\n",
       "      <td>273084</td>\n",
       "      <td>1505602</td>\n",
       "      <td>1</td>\n",
       "      <td>0</td>\n",
       "      <td>0.000000</td>\n",
       "      <td>0.000000</td>\n",
       "      <td>0.000000</td>\n",
       "      <td>6</td>\n",
       "      <td>15</td>\n",
       "      <td>8</td>\n",
       "      <td>0</td>\n",
       "      <td>0</td>\n",
       "      <td>0.000000</td>\n",
       "      <td>0</td>\n",
       "      <td>1</td>\n",
       "      <td>4</td>\n",
       "      <td>0.377964</td>\n",
       "      <td>0.250</td>\n",
       "      <td>0.627964</td>\n",
       "      <td>0.094491</td>\n",
       "      <td>1.005929</td>\n",
       "      <td>0.877964</td>\n",
       "      <td>2.045290e-06</td>\n",
       "      <td>3.459963e-07</td>\n",
       "      <td>0.000773</td>\n",
       "      <td>0.000756</td>\n",
       "      <td>1.943132e-13</td>\n",
       "      <td>1.941103e-13</td>\n",
       "      <td>9.226339e-16</td>\n",
       "      <td>2.231877e-15</td>\n",
       "      <td>-1.666226e-13</td>\n",
       "      <td>4.613397e-13</td>\n",
       "      <td>1.043044e-05</td>\n",
       "      <td>6.676960e-13</td>\n",
       "      <td>2.451081e-13</td>\n",
       "      <td>3.584580e-12</td>\n",
       "      <td>-2.038017e-11</td>\n",
       "      <td>5.397495e-13</td>\n",
       "      <td>1.068946e-06</td>\n",
       "      <td>1.192357e-12</td>\n",
       "      <td>2.279485e-12</td>\n",
       "      <td>3.580837e-12</td>\n",
       "      <td>-7.216133e-13</td>\n",
       "      <td>3.925975e-13</td>\n",
       "      <td>1.983691e-06</td>\n",
       "      <td>1.545075e-13</td>\n",
       "      <td>8.108434e-13</td>\n",
       "      <td>1.719702e-14</td>\n",
       "      <td>-1.355368e-12</td>\n",
       "      <td>4.675307e-13</td>\n",
       "      <td>1.128591e-06</td>\n",
       "      <td>6.616550e-14</td>\n",
       "      <td>9.771077e-13</td>\n",
       "      <td>4.159752e-14</td>\n",
       "      <td>66</td>\n",
       "      <td>120</td>\n",
       "      <td>1.114958e-11</td>\n",
       "      <td>2.238775e-12</td>\n",
       "    </tr>\n",
       "    <tr>\n",
       "      <th>1</th>\n",
       "      <td>832016</td>\n",
       "      <td>1543415</td>\n",
       "      <td>1</td>\n",
       "      <td>0</td>\n",
       "      <td>0.187135</td>\n",
       "      <td>0.028382</td>\n",
       "      <td>0.343828</td>\n",
       "      <td>94</td>\n",
       "      <td>61</td>\n",
       "      <td>142</td>\n",
       "      <td>11</td>\n",
       "      <td>32</td>\n",
       "      <td>16.362912</td>\n",
       "      <td>0</td>\n",
       "      <td>1</td>\n",
       "      <td>2</td>\n",
       "      <td>0.102598</td>\n",
       "      <td>0.127</td>\n",
       "      <td>0.229598</td>\n",
       "      <td>0.013030</td>\n",
       "      <td>0.332196</td>\n",
       "      <td>0.356598</td>\n",
       "      <td>2.353458e-07</td>\n",
       "      <td>6.427660e-07</td>\n",
       "      <td>0.000845</td>\n",
       "      <td>0.001317</td>\n",
       "      <td>3.906648e-11</td>\n",
       "      <td>9.424102e-11</td>\n",
       "      <td>1.208074e-11</td>\n",
       "      <td>1.273080e-10</td>\n",
       "      <td>7.051088e-13</td>\n",
       "      <td>-8.250564e-11</td>\n",
       "      <td>-1.717702e-10</td>\n",
       "      <td>3.705016e-02</td>\n",
       "      <td>1.032392e-11</td>\n",
       "      <td>7.207497e-10</td>\n",
       "      <td>1.644399e-12</td>\n",
       "      <td>-2.047752e-10</td>\n",
       "      <td>-3.943936e-10</td>\n",
       "      <td>8.617541e-02</td>\n",
       "      <td>2.399540e-11</td>\n",
       "      <td>1.738682e-09</td>\n",
       "      <td>2.685878e-13</td>\n",
       "      <td>-3.316849e-11</td>\n",
       "      <td>-6.236048e-11</td>\n",
       "      <td>1.345726e-02</td>\n",
       "      <td>3.703479e-12</td>\n",
       "      <td>2.251737e-10</td>\n",
       "      <td>1.245101e-12</td>\n",
       "      <td>-1.636948e-10</td>\n",
       "      <td>-3.112650e-10</td>\n",
       "      <td>6.738902e-02</td>\n",
       "      <td>2.607801e-11</td>\n",
       "      <td>2.372904e-09</td>\n",
       "      <td>1598</td>\n",
       "      <td>8662</td>\n",
       "      <td>3.192812e-03</td>\n",
       "      <td>9.068719e-04</td>\n",
       "    </tr>\n",
       "  </tbody>\n",
       "</table>\n",
       "</div>"
      ],
      "text/plain": [
       "   source_node  destination_node  ...    svd_dot_f1    svd_dot_f2\n",
       "0       273084           1505602  ...  1.114958e-11  2.238775e-12\n",
       "1       832016           1543415  ...  3.192812e-03  9.068719e-04\n",
       "\n",
       "[2 rows x 58 columns]"
      ]
     },
     "execution_count": 13,
     "metadata": {
      "tags": []
     },
     "output_type": "execute_result"
    }
   ],
   "source": [
    "df_final_train.head(2)"
   ]
  },
  {
   "cell_type": "code",
   "execution_count": null,
   "metadata": {
    "colab": {
     "base_uri": "https://localhost:8080/"
    },
    "id": "AFnWDI1AT2br",
    "outputId": "4053a1b6-cf16-4e9e-b662-eababe21831c"
   },
   "outputs": [
    {
     "data": {
      "text/plain": [
       "Index(['source_node', 'destination_node', 'indicator_link',\n",
       "       'jaccard_followers', 'jaccard_followees', 'cosine_followers',\n",
       "       'cosine_followees', 'num_followers_s', 'num_followees_s',\n",
       "       'num_followees_d', 'inter_followers', 'inter_followees', 'adar_index',\n",
       "       'follows_back', 'same_comp', 'shortest_path', 'weight_in', 'weight_out',\n",
       "       'weight_f1', 'weight_f2', 'weight_f3', 'weight_f4', 'page_rank_s',\n",
       "       'page_rank_d', 'katz_s', 'katz_d', 'hubs_s', 'hubs_d', 'authorities_s',\n",
       "       'authorities_d', 'svd_u_s_1', 'svd_u_s_2', 'svd_u_s_3', 'svd_u_s_4',\n",
       "       'svd_u_s_5', 'svd_u_s_6', 'svd_u_d_1', 'svd_u_d_2', 'svd_u_d_3',\n",
       "       'svd_u_d_4', 'svd_u_d_5', 'svd_u_d_6', 'svd_v_s_1', 'svd_v_s_2',\n",
       "       'svd_v_s_3', 'svd_v_s_4', 'svd_v_s_5', 'svd_v_s_6', 'svd_v_d_1',\n",
       "       'svd_v_d_2', 'svd_v_d_3', 'svd_v_d_4', 'svd_v_d_5', 'svd_v_d_6',\n",
       "       'preferential_attachment_followers',\n",
       "       'preferential_attachment_followees', 'svd_dot_f1', 'svd_dot_f2'],\n",
       "      dtype='object')"
      ]
     },
     "execution_count": 14,
     "metadata": {
      "tags": []
     },
     "output_type": "execute_result"
    }
   ],
   "source": [
    "df_final_train.columns"
   ]
  },
  {
   "cell_type": "code",
   "execution_count": null,
   "metadata": {
    "id": "a6hm4RhpUcSJ"
   },
   "outputs": [],
   "source": [
    "y_train=df_final_train['indicator_link']\n",
    "y_test=df_final_test['indicator_link']"
   ]
  },
  {
   "cell_type": "code",
   "execution_count": null,
   "metadata": {
    "id": "lp_j-Je9UnT5"
   },
   "outputs": [],
   "source": [
    "df_final_train.drop(['source_node','destination_node','indicator_link'],axis=1,inplace=True)\n",
    "df_final_test.drop(['source_node','destination_node','indicator_link'],axis=1,inplace=True)"
   ]
  },
  {
   "cell_type": "markdown",
   "metadata": {
    "id": "LMVeAkKLVSfL"
   },
   "source": [
    "# Building Model "
   ]
  },
  {
   "cell_type": "markdown",
   "metadata": {
    "id": "zDp3otm-VW3n"
   },
   "source": [
    "# XGBOOST"
   ]
  },
  {
   "cell_type": "code",
   "execution_count": null,
   "metadata": {
    "colab": {
     "base_uri": "https://localhost:8080/",
     "height": 422
    },
    "id": "YHrUhYfEU__i",
    "outputId": "b5d7c730-6e66-4c3e-e82a-e5605786e863"
   },
   "outputs": [
    {
     "name": "stdout",
     "output_type": "stream",
     "text": [
      "# of Estimators =  10 Train Score 0.9210492696844526 test Score 0.9162413689582708\n",
      "# of Estimators =  50 Train Score 0.9675354922332259 test Score 0.9231354642313546\n",
      "# of Estimators =  100 Train Score 0.9736268857840504 test Score 0.9281594571670908\n",
      "# of Estimators =  250 Train Score 0.9779501631263698 test Score 0.9152513258755074\n",
      "# of Estimators =  500 Train Score 0.9830617711627158 test Score 0.8976821336592605\n",
      "# of Estimators =  1000 Train Score 0.9910263994305022 test Score 0.8862563423781161\n"
     ]
    },
    {
     "data": {
      "text/plain": [
       "Text(0.5, 1.0, '# of Estimator vs score')"
      ]
     },
     "execution_count": 19,
     "metadata": {
      "tags": []
     },
     "output_type": "execute_result"
    },
    {
     "data": {
      "image/png": "[encoded data removed]",
      "text/plain": [
       "<Figure size 432x288 with 1 Axes>"
      ]
     },
     "metadata": {
      "tags": []
     },
     "output_type": "display_data"
    }
   ],
   "source": [
    "from xgboost import XGBClassifier\n",
    "\n",
    "estimators=[10,50,100,250,500,1000]\n",
    "train_scores=[]\n",
    "test_scores=[]\n",
    "\n",
    "for i in estimators:\n",
    "  clf1=XGBClassifier(n_estimators=i,booster='gbtree',n_jobs=-1,random_state=42)\n",
    "  clf1.fit(df_final_train,y_train)\n",
    "  train_sc=f1_score(y_train,clf1.predict(df_final_train))\n",
    "  test_sc=f1_score(y_test,clf1.predict(df_final_test))\n",
    "  train_scores+=train_sc,\n",
    "  test_scores+=test_sc,\n",
    "  print('# of Estimators = ',i,'Train Score',train_sc,'test Score',test_sc)\n",
    "plt.plot(estimators,train_scores,label='Train Score')\n",
    "plt.plot(estimators,test_scores,label='Test Score')\n",
    "plt.xlabel('# of estimators')\n",
    "plt.ylabel('Score')\n",
    "plt.title('# of Estimator vs score')"
   ]
  },
  {
   "cell_type": "code",
   "execution_count": null,
   "metadata": {
    "colab": {
     "base_uri": "https://localhost:8080/",
     "height": 460
    },
    "id": "_vZ8ALrvZBTk",
    "outputId": "f57780ae-0da5-4f0d-dee5-f01299ce60b6"
   },
   "outputs": [
    {
     "name": "stdout",
     "output_type": "stream",
     "text": [
      "Max_depth =  1 Train Score 0.9272776765709739 test Score 0.9170261354986045\n",
      "Max_depth =  3 Train Score 0.9741812581063554 test Score 0.928221340518979\n",
      "Max_depth =  5 Train Score 0.9780742987111447 test Score 0.9292449831535674\n",
      "Max_depth =  10 Train Score 0.9932154398924106 test Score 0.9279361507928084\n",
      "Max_depth =  20 Train Score 1.0 test Score 0.929061203758571\n",
      "Max_depth =  50 Train Score 1.0 test Score 0.9301882800930823\n",
      "Max_depth =  100 Train Score 1.0 test Score 0.9301882800930823\n",
      "Max_depth =  200 Train Score 1.0 test Score 0.9301882800930823\n"
     ]
    },
    {
     "data": {
      "text/plain": [
       "Text(0.5, 1.0, 'Max_depth vs score')"
      ]
     },
     "execution_count": 23,
     "metadata": {
      "tags": []
     },
     "output_type": "execute_result"
    },
    {
     "data": {
      "image/png": "[encoded data removed]",
      "text/plain": [
       "<Figure size 432x288 with 1 Axes>"
      ]
     },
     "metadata": {
      "tags": []
     },
     "output_type": "display_data"
    }
   ],
   "source": [
    "from xgboost import XGBClassifier\n",
    "\n",
    "depth=[1,3,5,10,20,50,100,200]\n",
    "train_scores=[]\n",
    "test_scores=[]\n",
    "\n",
    "for i in depth:\n",
    "  clf1=XGBClassifier(max_depth=i,n_estimators=115,booster='gbtree',n_jobs=-1,random_state=42)\n",
    "  clf1.fit(df_final_train,y_train)\n",
    "  train_sc=f1_score(y_train,clf1.predict(df_final_train))\n",
    "  test_sc=f1_score(y_test,clf1.predict(df_final_test))\n",
    "  train_scores+=train_sc,\n",
    "  test_scores+=test_sc,\n",
    "  print('Max_depth = ',i,'Train Score',train_sc,'test Score',test_sc)\n",
    "plt.plot(depth,train_scores,label='Train Score')\n",
    "plt.plot(depth,test_scores,label='Test Score')\n",
    "plt.xlabel('Max_depth')\n",
    "plt.ylabel('Score')\n",
    "plt.title('Max_depth vs score')"
   ]
  },
  {
   "cell_type": "code",
   "execution_count": null,
   "metadata": {
    "colab": {
     "base_uri": "https://localhost:8080/"
    },
    "id": "kHSfllB5a8sY",
    "outputId": "6aca9441-ac5e-4549-bba7-3210af23809b"
   },
   "outputs": [
    {
     "name": "stdout",
     "output_type": "stream",
     "text": [
      "mean train scores [1. 1. 1. 1. 1.]\n",
      "mean test scores [0.9791718  0.9788873  0.97916364 0.97905148 0.97914101]\n"
     ]
    }
   ],
   "source": [
    "from sklearn.model_selection import RandomizedSearchCV\n",
    "from scipy.stats import randint,uniform\n",
    "import random\n",
    "\n",
    "parameters={\"n_estimators\":randint(100,125),\n",
    "            \"max_depth\":randint(20,50)}\n",
    "\n",
    "clf1=XGBClassifier(n_jobs=-1,random_state=42,booster='gbtree')\n",
    "rs=RandomizedSearchCV(clf1,param_distributions=parameters,n_iter=5,cv=5,scoring='f1',random_state=42,return_train_score=True)\n",
    "rs.fit(df_final_train,y_train)\n",
    "\n",
    "print('mean train scores',rs.cv_results_['mean_train_score'])\n",
    "print('mean test scores',rs.cv_results_['mean_test_score'])"
   ]
  },
  {
   "cell_type": "code",
   "execution_count": null,
   "metadata": {
    "colab": {
     "base_uri": "https://localhost:8080/"
    },
    "id": "sQJKDc-yzWSh",
    "outputId": "d8ffc628-5170-46c0-9cf2-73c1d2639427"
   },
   "outputs": [
    {
     "name": "stdout",
     "output_type": "stream",
     "text": [
      "XGBClassifier(base_score=0.5, booster='gbtree', colsample_bylevel=1,\n",
      "              colsample_bynode=1, colsample_bytree=1, gamma=0,\n",
      "              learning_rate=0.1, max_delta_step=0, max_depth=26,\n",
      "              min_child_weight=1, missing=None, n_estimators=119, n_jobs=-1,\n",
      "              nthread=None, objective='binary:logistic', random_state=42,\n",
      "              reg_alpha=0, reg_lambda=1, scale_pos_weight=1, seed=None,\n",
      "              silent=None, subsample=1, verbosity=1)\n"
     ]
    }
   ],
   "source": [
    "print(rs.best_estimator_)"
   ]
  },
  {
   "cell_type": "code",
   "execution_count": null,
   "metadata": {
    "id": "g_Yt4n0VKa4i"
   },
   "outputs": [],
   "source": [
    "clf1=XGBClassifier(base_score=0.5, booster='gbtree', colsample_bylevel=1,\n",
    "              colsample_bynode=1, colsample_bytree=1, gamma=0,\n",
    "              learning_rate=0.1, max_delta_step=0, max_depth=26,\n",
    "              min_child_weight=1, missing=None, n_estimators=119, n_jobs=-1,\n",
    "              nthread=None, objective='binary:logistic', random_state=42,\n",
    "              reg_alpha=0, reg_lambda=1, scale_pos_weight=1, seed=None,\n",
    "              silent=None, subsample=1, verbosity=1)"
   ]
  },
  {
   "cell_type": "code",
   "execution_count": null,
   "metadata": {
    "colab": {
     "base_uri": "https://localhost:8080/"
    },
    "id": "8nlAyLOVKhJa",
    "outputId": "938abb1a-c28e-400f-e7c4-038582d99a84"
   },
   "outputs": [
    {
     "data": {
      "text/plain": [
       "XGBClassifier(base_score=0.5, booster='gbtree', colsample_bylevel=1,\n",
       "              colsample_bynode=1, colsample_bytree=1, gamma=0,\n",
       "              learning_rate=0.1, max_delta_step=0, max_depth=26,\n",
       "              min_child_weight=1, missing=None, n_estimators=119, n_jobs=-1,\n",
       "              nthread=None, objective='binary:logistic', random_state=42,\n",
       "              reg_alpha=0, reg_lambda=1, scale_pos_weight=1, seed=None,\n",
       "              silent=None, subsample=1, verbosity=1)"
      ]
     },
     "execution_count": 36,
     "metadata": {
      "tags": []
     },
     "output_type": "execute_result"
    }
   ],
   "source": [
    "clf1.fit(df_final_train,y_train)"
   ]
  },
  {
   "cell_type": "code",
   "execution_count": null,
   "metadata": {
    "id": "XFA1TnuFKxI9"
   },
   "outputs": [],
   "source": [
    "y_train_pred=clf1.predict(df_final_train)\n",
    "y_test_pred=clf1.predict(df_final_test)"
   ]
  },
  {
   "cell_type": "code",
   "execution_count": null,
   "metadata": {
    "colab": {
     "base_uri": "https://localhost:8080/"
    },
    "id": "u804traXM-BO",
    "outputId": "523f5d9f-ade6-4c03-f5e9-c7df0667ff40"
   },
   "outputs": [
    {
     "name": "stdout",
     "output_type": "stream",
     "text": [
      "Train f1 score 1.0\n",
      "Test f1 score 0.9290931803264805\n"
     ]
    }
   ],
   "source": [
    "from sklearn.metrics import f1_score\n",
    "print('Train f1 score',f1_score(y_train,y_train_pred))\n",
    "print('Test f1 score',f1_score(y_test,y_test_pred))"
   ]
  },
  {
   "cell_type": "code",
   "execution_count": null,
   "metadata": {
    "id": "uBKy3XWxNAwg"
   },
   "outputs": [],
   "source": [
    "from sklearn.metrics import confusion_matrix\n",
    "\n",
    "def plot_confusion_matrix(test_y, predict_y):\n",
    "    C = confusion_matrix(test_y, predict_y)\n",
    "    A =(((C.T)/(C.sum(axis=1))).T)\n",
    "    B =(C/C.sum(axis=0))\n",
    "    plt.figure(figsize=(20,4))\n",
    "    labels = [0,1]\n",
    "    \n",
    "    # representing A in heatmap format\n",
    "    cmap=sns.light_palette(\"blue\")\n",
    "    plt.subplot(1, 3, 1)\n",
    "    sns.heatmap(C, annot=True, cmap=cmap, fmt=\".3f\", xticklabels=labels, yticklabels=labels)\n",
    "    plt.xlabel('Predicted Class')\n",
    "    plt.ylabel('Original Class')\n",
    "    plt.title(\"Confusion matrix\")\n",
    "    \n",
    "    plt.subplot(1, 3, 2)\n",
    "    sns.heatmap(B, annot=True, cmap=cmap, fmt=\".3f\", xticklabels=labels, yticklabels=labels)\n",
    "    plt.xlabel('Predicted Class')\n",
    "    plt.ylabel('Original Class')\n",
    "    plt.title(\"Precision matrix\")\n",
    "    \n",
    "    plt.subplot(1, 3, 3)\n",
    "    # representing B in heatmap format\n",
    "    sns.heatmap(A, annot=True, cmap=cmap, fmt=\".3f\", xticklabels=labels, yticklabels=labels)\n",
    "    plt.xlabel('Predicted Class')\n",
    "    plt.ylabel('Original Class')\n",
    "    plt.title(\"Recall matrix\")\n",
    "    \n",
    "    plt.show()"
   ]
  },
  {
   "cell_type": "code",
   "execution_count": null,
   "metadata": {
    "colab": {
     "base_uri": "https://localhost:8080/",
     "height": 609
    },
    "id": "gobfD_spNLSM",
    "outputId": "a7cbd5eb-a6e9-49bf-de6a-7847f037f9ed"
   },
   "outputs": [
    {
     "name": "stdout",
     "output_type": "stream",
     "text": [
      "Train confusion_matrix\n"
     ]
    },
    {
     "data": {
      "image/png": "[encoded data removed]",
      "text/plain": [
       "<Figure size 1440x288 with 6 Axes>"
      ]
     },
     "metadata": {
      "tags": []
     },
     "output_type": "display_data"
    },
    {
     "name": "stdout",
     "output_type": "stream",
     "text": [
      "Test confusion_matrix\n"
     ]
    },
    {
     "data": {
      "image/png": "[encoded data removed]",
      "text/plain": [
       "<Figure size 1440x288 with 6 Axes>"
      ]
     },
     "metadata": {
      "tags": []
     },
     "output_type": "display_data"
    }
   ],
   "source": [
    "print('Train confusion_matrix')\n",
    "plot_confusion_matrix(y_train,y_train_pred)\n",
    "print('Test confusion_matrix')\n",
    "plot_confusion_matrix(y_test,y_test_pred)"
   ]
  },
  {
   "cell_type": "code",
   "execution_count": null,
   "metadata": {
    "colab": {
     "base_uri": "https://localhost:8080/",
     "height": 295
    },
    "id": "NR4BRAZoNOoW",
    "outputId": "1691b0d0-85bc-44c5-d406-0fa4208a4967"
   },
   "outputs": [
    {
     "data": {
      "image/png": "[encoded data removed]",
      "text/plain": [
       "<Figure size 432x288 with 1 Axes>"
      ]
     },
     "metadata": {
      "tags": []
     },
     "output_type": "display_data"
    }
   ],
   "source": [
    "from sklearn.metrics import roc_curve, auc\n",
    "fpr,tpr,ths = roc_curve(y_test,y_test_pred)\n",
    "auc_sc = auc(fpr, tpr)\n",
    "plt.plot(fpr, tpr, color='navy',label='ROC curve (area = %0.2f)' % auc_sc)\n",
    "plt.xlabel('False Positive Rate')\n",
    "plt.ylabel('True Positive Rate')\n",
    "plt.title('Receiver operating characteristic with test data')\n",
    "plt.legend()\n",
    "plt.show()"
   ]
  },
  {
   "cell_type": "code",
   "execution_count": null,
   "metadata": {
    "colab": {
     "base_uri": "https://localhost:8080/",
     "height": 730
    },
    "id": "1vpXAHtaNk2M",
    "outputId": "e9c89e51-dfea-484b-cf2d-8430b2b5839f"
   },
   "outputs": [
    {
     "data": {
      "image/png": "[encoded data removed]",
      "text/plain": [
       "<Figure size 720x864 with 1 Axes>"
      ]
     },
     "metadata": {
      "tags": []
     },
     "output_type": "display_data"
    }
   ],
   "source": [
    "features = df_final_train.columns\n",
    "importances = clf1.feature_importances_\n",
    "indices = (np.argsort(importances))[-25:]\n",
    "plt.figure(figsize=(10,12))\n",
    "plt.title('Feature Importances')\n",
    "plt.barh(range(len(indices)), importances[indices], color='r', align='center')\n",
    "plt.yticks(range(len(indices)), [features[i] for i in indices])\n",
    "plt.xlabel('Relative Importance')\n",
    "plt.show()"
   ]
  },
  {
   "cell_type": "markdown",
   "metadata": {
    "id": "0x3VdylmOqIO"
   },
   "source": [
    "# Findings:\n",
    "\n",
    "1. Using XGBOOST Classifiers,most important features are follows_back, cosine followers, jaccard followees, weight_f1,shortest path, same component,authority.\n",
    "\n",
    "2. Preferential attachment and svd dot doesn't account much more feature value.\n",
    "\n",
    "3. Slightly increase in class 1 precision value and class 0 recall value using XGBOOST as compare to previous Random forest classifier.\n"
   ]
  },
  {
   "cell_type": "markdown",
   "metadata": {
    "id": "bLIxOGa3P08d"
   },
   "source": [
    "# Random forest"
   ]
  },
  {
   "cell_type": "code",
   "execution_count": null,
   "metadata": {
    "colab": {
     "base_uri": "https://localhost:8080/",
     "height": 422
    },
    "id": "FYc5c5cCNtp9",
    "outputId": "2f66de4c-d32e-469d-fed3-45c7970bb964"
   },
   "outputs": [
    {
     "name": "stdout",
     "output_type": "stream",
     "text": [
      "# of Estimators =  10 Train Score 0.9625515612806455 test Score 0.8852987987005908\n",
      "# of Estimators =  50 Train Score 0.9629486841304303 test Score 0.9228757618575617\n",
      "# of Estimators =  100 Train Score 0.9635091277890466 test Score 0.9219792282360888\n",
      "# of Estimators =  250 Train Score 0.9639756592292089 test Score 0.9238199687855907\n",
      "# of Estimators =  500 Train Score 0.9637173258137482 test Score 0.9244228944871928\n",
      "# of Estimators =  1000 Train Score 0.9636409762037648 test Score 0.9237779793675238\n"
     ]
    },
    {
     "data": {
      "text/plain": [
       "Text(0.5, 1.0, '# of Estimator vs score')"
      ]
     },
     "execution_count": 67,
     "metadata": {
      "tags": []
     },
     "output_type": "execute_result"
    },
    {
     "data": {
      "image/png": "[encoded data removed]",
      "text/plain": [
       "<Figure size 432x288 with 1 Axes>"
      ]
     },
     "metadata": {
      "tags": []
     },
     "output_type": "display_data"
    }
   ],
   "source": [
    "from sklearn.ensemble import RandomForestClassifier\n",
    "\n",
    "estimators=[10,50,100,250,500,1000]\n",
    "train_scores=[]\n",
    "test_scores=[]\n",
    "\n",
    "for i in estimators:\n",
    "  clf2=RandomForestClassifier(bootstrap=True, class_weight=None, criterion='gini',\n",
    "            max_features='auto', max_leaf_nodes=None,\n",
    "            min_impurity_decrease=0.0, min_impurity_split=None,\n",
    "            min_samples_leaf=52, min_samples_split=120,\n",
    "            min_weight_fraction_leaf=0.0, n_estimators=i, n_jobs=-1,random_state=42,verbose=0,warm_start=False)\n",
    "  clf2.fit(df_final_train,y_train)\n",
    "  train_sc=f1_score(y_train,clf2.predict(df_final_train))\n",
    "  test_sc=f1_score(y_test,clf2.predict(df_final_test))\n",
    "  train_scores+=train_sc,\n",
    "  test_scores+=test_sc,\n",
    "  print('# of Estimators = ',i,'Train Score',train_sc,'test Score',test_sc)\n",
    "plt.plot(estimators,train_scores,label='Train Score')\n",
    "plt.plot(estimators,test_scores,label='Test Score')\n",
    "plt.xlabel('# of estimators')\n",
    "plt.ylabel('Score')\n",
    "plt.title('# of Estimator vs score')"
   ]
  },
  {
   "cell_type": "code",
   "execution_count": null,
   "metadata": {
    "colab": {
     "base_uri": "https://localhost:8080/",
     "height": 478
    },
    "id": "X7lotwNAQSjK",
    "outputId": "983137a8-af4a-4228-f817-19a48677430e"
   },
   "outputs": [
    {
     "name": "stdout",
     "output_type": "stream",
     "text": [
      "Max_depth =  1 Train Score 0.8229730296547964 test Score 0.8007953646490347\n",
      "Max_depth =  3 Train Score 0.8738972385791118 test Score 0.8590442142441799\n",
      "Max_depth =  5 Train Score 0.9215298901397555 test Score 0.9139984011444439\n",
      "Max_depth =  10 Train Score 0.9600569597721609 test Score 0.9243467458362284\n",
      "Max_depth =  15 Train Score 0.9630365579188547 test Score 0.9236956247104897\n",
      "Max_depth =  20 Train Score 0.9636995813439568 test Score 0.9262388097339553\n",
      "Max_depth =  35 Train Score 0.9637454884626302 test Score 0.9238644981882531\n",
      "Max_depth =  50 Train Score 0.9637454884626302 test Score 0.9238644981882531\n",
      "Max_depth =  100 Train Score 0.9637454884626302 test Score 0.9238644981882531\n"
     ]
    },
    {
     "data": {
      "text/plain": [
       "Text(0.5, 1.0, 'Max_depth vs score')"
      ]
     },
     "execution_count": 68,
     "metadata": {
      "tags": []
     },
     "output_type": "execute_result"
    },
    {
     "data": {
      "image/png": "[encoded data removed]",
      "text/plain": [
       "<Figure size 432x288 with 1 Axes>"
      ]
     },
     "metadata": {
      "tags": []
     },
     "output_type": "display_data"
    }
   ],
   "source": [
    "depth=[1,3,5,10,15,20,35,50,100]\n",
    "train_scores=[]\n",
    "test_scores=[]\n",
    "\n",
    "for i in depth:\n",
    "  clf2=RandomForestClassifier(bootstrap=True, class_weight=None, criterion='gini',\n",
    "            max_depth=i, max_features='auto', max_leaf_nodes=None,\n",
    "            min_impurity_decrease=0.0, min_impurity_split=None,\n",
    "            min_samples_leaf=52, min_samples_split=120,\n",
    "            min_weight_fraction_leaf=0.0, n_estimators=500, n_jobs=-1,random_state=25,verbose=0,warm_start=False)\n",
    "  clf2.fit(df_final_train,y_train)\n",
    "  train_sc=f1_score(y_train,clf2.predict(df_final_train))\n",
    "  test_sc=f1_score(y_test,clf2.predict(df_final_test))\n",
    "  train_scores+=train_sc,\n",
    "  test_scores+=test_sc,\n",
    "  print('Max_depth = ',i,'Train Score',train_sc,'test Score',test_sc)\n",
    "plt.plot(depth,train_scores,label='Train Score')\n",
    "plt.plot(depth,test_scores,label='Test Score')\n",
    "plt.xlabel('Max_depth')\n",
    "plt.ylabel('Score')\n",
    "plt.title('Max_depth vs score')"
   ]
  },
  {
   "cell_type": "code",
   "execution_count": null,
   "metadata": {
    "colab": {
     "background_save": true
    },
    "id": "O25CTT_nRqPp",
    "outputId": "7bbbf6cc-0974-450d-d74c-909c5eb0c32b"
   },
   "outputs": [
    {
     "name": "stdout",
     "output_type": "stream",
     "text": [
      "mean test scores [0.96216223 0.96210683 0.96204799 0.96335849 0.96223864]\n",
      "mean train scores [0.9630464  0.96285619 0.96255618 0.96454871 0.96293742]\n"
     ]
    }
   ],
   "source": [
    "from sklearn.metrics import f1_score\n",
    "from sklearn.ensemble import RandomForestClassifier\n",
    "from sklearn.metrics import f1_score\n",
    "from sklearn.model_selection import RandomizedSearchCV\n",
    "from scipy.stats import randint as sp_randint\n",
    "from scipy.stats import uniform\n",
    "\n",
    "param_dist = {\"n_estimators\":sp_randint(475,525),\n",
    "              \"max_depth\": sp_randint(15,25),\n",
    "              \"min_samples_split\": sp_randint(110,190),\n",
    "              \"min_samples_leaf\": sp_randint(25,65)}\n",
    "\n",
    "clf2=RandomForestClassifier(random_state=42,n_jobs=-1)\n",
    "\n",
    "rs=RandomizedSearchCV(clf2,param_distributions=param_dist,n_iter=5,cv=5,scoring='f1',random_state=42,return_train_score=True)\n",
    "\n",
    "rs.fit(df_final_train,y_train)\n",
    "\n",
    "print('mean test scores',rs.cv_results_['mean_test_score'])\n",
    "print('mean train scores',rs.cv_results_['mean_train_score'])"
   ]
  },
  {
   "cell_type": "code",
   "execution_count": 77,
   "metadata": {
    "colab": {
     "base_uri": "https://localhost:8080/"
    },
    "id": "H5bO7_mlSUJF",
    "outputId": "d851f11d-efdf-4ecc-9985-3a6ae0a57614"
   },
   "outputs": [
    {
     "name": "stdout",
     "output_type": "stream",
     "text": [
      "RandomForestClassifier(bootstrap=True, ccp_alpha=0.0, class_weight=None,\n",
      "                       criterion='gini', max_depth=20, max_features='auto',\n",
      "                       max_leaf_nodes=None, max_samples=None,\n",
      "                       min_impurity_decrease=0.0, min_impurity_split=None,\n",
      "                       min_samples_leaf=26, min_samples_split=139,\n",
      "                       min_weight_fraction_leaf=0.0, n_estimators=512,\n",
      "                       n_jobs=-1, oob_score=False, random_state=42, verbose=0,\n",
      "                       warm_start=False)\n"
     ]
    }
   ],
   "source": [
    "print(rs.best_estimator_)"
   ]
  },
  {
   "cell_type": "code",
   "execution_count": 79,
   "metadata": {
    "id": "FZq3sVYWSbfj"
   },
   "outputs": [],
   "source": [
    "clf2=RandomForestClassifier(bootstrap=True, ccp_alpha=0.0, class_weight=None,\n",
    "                       criterion='gini', max_depth=20, max_features='auto',\n",
    "                       max_leaf_nodes=None, max_samples=None,\n",
    "                       min_impurity_decrease=0.0, min_impurity_split=None,\n",
    "                       min_samples_leaf=26, min_samples_split=139,\n",
    "                       min_weight_fraction_leaf=0.0, n_estimators=512,\n",
    "                       n_jobs=-1, oob_score=False, random_state=42, verbose=0,\n",
    "                       warm_start=False)"
   ]
  },
  {
   "cell_type": "code",
   "execution_count": 80,
   "metadata": {
    "id": "4jc4CcnKSvUM"
   },
   "outputs": [],
   "source": [
    "clf2.fit(df_final_train,y_train)\n",
    "y_train_pred=clf2.predict(df_final_train)\n",
    "y_test_pred=clf2.predict(df_final_test)"
   ]
  },
  {
   "cell_type": "code",
   "execution_count": 81,
   "metadata": {
    "colab": {
     "base_uri": "https://localhost:8080/"
    },
    "id": "SgA1z5NlS8Ck",
    "outputId": "3086266a-b9d2-432b-d896-1bd62057bae0"
   },
   "outputs": [
    {
     "name": "stdout",
     "output_type": "stream",
     "text": [
      "Train f1 score 0.9654291449542773\n",
      "Test f1 score 0.9244566364211859\n"
     ]
    }
   ],
   "source": [
    "from sklearn.metrics import f1_score\n",
    "print('Train f1 score',f1_score(y_train,y_train_pred))\n",
    "print('Test f1 score',f1_score(y_test,y_test_pred))"
   ]
  },
  {
   "cell_type": "code",
   "execution_count": 82,
   "metadata": {
    "colab": {
     "base_uri": "https://localhost:8080/",
     "height": 609
    },
    "id": "SV4PgCHmUW-C",
    "outputId": "78df7a65-e34a-486a-e6d6-22e890a9db0f"
   },
   "outputs": [
    {
     "name": "stdout",
     "output_type": "stream",
     "text": [
      "Train confusion_matrix\n"
     ]
    },
    {
     "data": {
      "image/png": "[encoded data removed]",
      "text/plain": [
       "<Figure size 1440x288 with 6 Axes>"
      ]
     },
     "metadata": {
      "needs_background": "light",
      "tags": []
     },
     "output_type": "display_data"
    },
    {
     "name": "stdout",
     "output_type": "stream",
     "text": [
      "Test confusion_matrix\n"
     ]
    },
    {
     "data": {
      "image/png": "[encoded data removed]",
      "text/plain": [
       "<Figure size 1440x288 with 6 Axes>"
      ]
     },
     "metadata": {
      "needs_background": "light",
      "tags": []
     },
     "output_type": "display_data"
    }
   ],
   "source": [
    "print('Train confusion_matrix')\n",
    "plot_confusion_matrix(y_train,y_train_pred)\n",
    "print('Test confusion_matrix')\n",
    "plot_confusion_matrix(y_test,y_test_pred)"
   ]
  },
  {
   "cell_type": "code",
   "execution_count": 83,
   "metadata": {
    "colab": {
     "base_uri": "https://localhost:8080/",
     "height": 295
    },
    "id": "SIwrtPvsUg7H",
    "outputId": "09de66e5-a900-45f1-d199-6703f78ec1ad"
   },
   "outputs": [
    {
     "data": {
      "image/png": "[encoded data removed]",
      "text/plain": [
       "<Figure size 432x288 with 1 Axes>"
      ]
     },
     "metadata": {
      "needs_background": "light",
      "tags": []
     },
     "output_type": "display_data"
    }
   ],
   "source": [
    "from sklearn.metrics import roc_curve, auc\n",
    "fpr,tpr,ths = roc_curve(y_test,y_test_pred)\n",
    "auc_sc = auc(fpr, tpr)\n",
    "plt.plot(fpr, tpr, color='navy',label='ROC curve (area = %0.2f)' % auc_sc)\n",
    "plt.xlabel('False Positive Rate')\n",
    "plt.ylabel('True Positive Rate')\n",
    "plt.title('Receiver operating characteristic with test data')\n",
    "plt.legend()\n",
    "plt.show()"
   ]
  },
  {
   "cell_type": "code",
   "execution_count": 84,
   "metadata": {
    "colab": {
     "base_uri": "https://localhost:8080/",
     "height": 730
    },
    "id": "l47wIMcxUsc2",
    "outputId": "59cb9d55-8eac-47fa-9909-3b87ae4bbdf4"
   },
   "outputs": [
    {
     "data": {
      "image/png": "[encoded data removed]",
      "text/plain": [
       "<Figure size 720x864 with 1 Axes>"
      ]
     },
     "metadata": {
      "needs_background": "light",
      "tags": []
     },
     "output_type": "display_data"
    }
   ],
   "source": [
    "features = df_final_train.columns\n",
    "importances = clf2.feature_importances_\n",
    "indices = (np.argsort(importances))[-25:]\n",
    "plt.figure(figsize=(10,12))\n",
    "plt.title('Feature Importances')\n",
    "plt.barh(range(len(indices)), importances[indices], color='r', align='center')\n",
    "plt.yticks(range(len(indices)), [features[i] for i in indices])\n",
    "plt.xlabel('Relative Importance')\n",
    "plt.show()"
   ]
  },
  {
   "cell_type": "markdown",
   "metadata": {
    "id": "D_L9JwQfqzVG"
   },
   "source": [
    "# Findings:\n",
    "\n",
    "1. Newly added Preferential attachment followers and followees are the important features while using random forest.\n",
    "\n",
    "2. Newly added svd_dot is not present in top 25 features.\n",
    "\n",
    "3. Slide increase in class 1 precision and recall values using new features."
   ]
  },
  {
   "cell_type": "code",
   "execution_count": null,
   "metadata": {
    "id": "65ZpSsKmUvEV"
   },
   "outputs": [],
   "source": []
  }
 ],
 "metadata": {
  "colab": {
   "name": "Facebook_CS.ipynb",
   "provenance": []
  },
  "kernelspec": {
   "display_name": "Python 3",
   "language": "python",
   "name": "python3"
  },
  "language_info": {
   "codemirror_mode": {
    "name": "ipython",
    "version": 3
   },
   "file_extension": ".py",
   "mimetype": "text/x-python",
   "name": "python",
   "nbconvert_exporter": "python",
   "pygments_lexer": "ipython3",
   "version": "3.8.5"
  }
 },
 "nbformat": 4,
 "nbformat_minor": 1
}
